{
 "cells": [
  {
   "cell_type": "markdown",
   "id": "8ba5913f-0e14-479b-a736-f7bbd9a33feb",
   "metadata": {},
   "source": [
    "Basic Blockchain in Python W#9"
   ]
  },
  {
   "cell_type": "code",
   "execution_count": 1,
   "id": "4e776510-54ce-4d0d-bed6-f7d5cba9d108",
   "metadata": {},
   "outputs": [],
   "source": [
    "from hashlib import sha256\n",
    "import json\n",
    "\n",
    "class Block:\n",
    "    def __init__(self, index, transactions, timestamp, previous_hash, nonce=0):\n",
    "        self.index = index\n",
    "        self.transactions = transactions\n",
    "        self.timestamp = timestamp\n",
    "        self.previous_hash = previous_hash\n",
    "        self.nonce = nonce\n",
    "\n",
    "    def compute_hash(self):\n",
    "        block_string = json.dumps(self.__dict__, sort_keys=True)\n",
    "        return sha256(block_string.encode()).hexdigest()"
   ]
  },
  {
   "cell_type": "code",
   "execution_count": 2,
   "id": "0abc40a6-e737-4848-aa66-f68758b16df3",
   "metadata": {},
   "outputs": [],
   "source": [
    "class Blockchain:     \n",
    "   def __init__(self):\n",
    "      pass\n",
    "\n",
    "class Blockchain: \n",
    "    def __init__(self):\n",
    "        self.unconfirmed_transactions = []\n",
    "        self.chain = []\n",
    "        self.create_genesis_block()"
   ]
  },
  {
   "cell_type": "code",
   "execution_count": 3,
   "id": "51438e59-2220-4fc7-83ef-798418214ee2",
   "metadata": {},
   "outputs": [],
   "source": [
    "def create_genesis_block(self):\n",
    "        genesis_block = Block(0, [], time.time(), \"0\")\n",
    "        genesis_block.hash = genesis_block.compute_hash()\n",
    "        self.chain.append(genesis_block)"
   ]
  },
  {
   "cell_type": "code",
   "execution_count": 4,
   "id": "d8a5135e-a45e-434d-8f5b-e56a9c84b976",
   "metadata": {},
   "outputs": [],
   "source": [
    "def get_last_block(self):\n",
    "    last_block = self.__chain[-1]"
   ]
  },
  {
   "cell_type": "code",
   "execution_count": 5,
   "id": "3d47ee75-ac2f-4797-bea7-3bcd69b7479d",
   "metadata": {},
   "outputs": [],
   "source": [
    "def proof_of_work(self, block):\n",
    "        block.nonce = 1 #test\n",
    "        computed_hash = block.compute_hash()\n",
    "        while not computed_hash.startswith('0' * Blockchain.difficulty):\n",
    "            block.nonce += 1\n",
    "            computed_hash = block.compute_hash()\n",
    "        return computed_hash"
   ]
  },
  {
   "cell_type": "code",
   "execution_count": 6,
   "id": "5f72f437-3a23-497f-91c1-57aa29f49090",
   "metadata": {},
   "outputs": [],
   "source": [
    "def is_valid_proof(self, block, block_hash):\n",
    "        return (block_hash.startswith('0' * Blockchain.difficulty) and\n",
    "                block_hash == block.compute_hash())"
   ]
  },
  {
   "cell_type": "code",
   "execution_count": 7,
   "id": "11141b0f-d1f3-413b-9c4f-ced0995b790d",
   "metadata": {},
   "outputs": [],
   "source": [
    "def add_block(self, block, proof):\n",
    "        previous_hash = self.last_block.hash\n",
    "        if previous_hash != block.previous_hash:\n",
    "            return False\n",
    "        if not self.is_valid_proof(block, proof):\n",
    "            return False\n",
    "        block.hash = proof"
   ]
  },
  {
   "cell_type": "code",
   "execution_count": 8,
   "id": "32bbc70e-c9ee-4335-aef7-a6f126c6ac52",
   "metadata": {},
   "outputs": [],
   "source": [
    "  def add_new_transaction(self, transaction):\n",
    "            self.unconfirmed_transactions.append(transaction)"
   ]
  },
  {
   "cell_type": "code",
   "execution_count": 9,
   "id": "ac9f9fe6-7a1f-446d-b5eb-9e8308b50b8a",
   "metadata": {},
   "outputs": [],
   "source": [
    "def mine(self):\n",
    "        if not self.unconfirmed_transactions:\n",
    "            return False\n",
    " \n",
    "        last_block = self.last_block\n",
    " \n",
    "        new_block = Block(index=last_block.index + 1,\n",
    "                          transactions=self.unconfirmed_transactions,\n",
    "                          timestamp=time.time(),\n",
    "                          previous_hash=last_block.hash)\n",
    "        proof = self.proof_of_work(new_block)\n",
    "        self.add_block(new_block, proof)\n",
    "        self.unconfirmed_transactions = []\n",
    "        return new_block.index"
   ]
  }
 ],
 "metadata": {
  "kernelspec": {
   "display_name": "Python 3",
   "language": "python",
   "name": "python3"
  },
  "language_info": {
   "codemirror_mode": {
    "name": "ipython",
    "version": 3
   },
   "file_extension": ".py",
   "mimetype": "text/x-python",
   "name": "python",
   "nbconvert_exporter": "python",
   "pygments_lexer": "ipython3",
   "version": "3.8.8"
  }
 },
 "nbformat": 4,
 "nbformat_minor": 5
}
